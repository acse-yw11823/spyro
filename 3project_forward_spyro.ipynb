{
 "cells": [
  {
   "cell_type": "code",
   "execution_count": 1,
   "metadata": {},
   "outputs": [],
   "source": [
    "import sys\n",
    "sys.path.append(\"/Users/yw11823/ACSE/irp/spyro\")\n",
    "\n",
    "import os\n",
    "os.environ[\"OMP_NUM_THREADS\"] = \"1\"\n",
    "\n",
    "from firedrake import *\n",
    "import numpy as np\n",
    "import finat\n",
    "from ROL.firedrake_vector import FiredrakeVector as FeVector\n",
    "import ROL\n",
    "from mpi4py import MPI\n",
    "import psutil\n",
    "\n",
    "import spyro\n",
    "import time"
   ]
  },
  {
   "cell_type": "code",
   "execution_count": 7,
   "metadata": {},
   "outputs": [
    {
     "data": {
      "text/plain": [
       "(731, 220)"
      ]
     },
     "execution_count": 7,
     "metadata": {},
     "output_type": "execute_result"
    }
   ],
   "source": [
    "from PIL import Image\n",
    "\n",
    "# 确保使用正确的绝对路径\n",
    "path_one = \"/Users/yw11823/ACSE/irp/spyro/output111.png\"\n",
    "image1 = Image.open(path_one)\n",
    "image1.size"
   ]
  },
  {
   "cell_type": "code",
   "execution_count": 9,
   "metadata": {},
   "outputs": [
    {
     "data": {
      "text/plain": [
       "(781, 220)"
      ]
     },
     "execution_count": 9,
     "metadata": {},
     "output_type": "execute_result"
    }
   ],
   "source": [
    "from PIL import Image\n",
    "\n",
    "# 确保使用正确的绝对路径\n",
    "path_one = \"/Users/yw11823/ACSE/irp/spyro/true_forward_2d_spyro.png\"\n",
    "image2 = Image.open(path_one)\n",
    "image2.size"
   ]
  },
  {
   "cell_type": "code",
   "execution_count": 12,
   "metadata": {},
   "outputs": [
    {
     "data": {
      "text/plain": [
       "(731, 220)"
      ]
     },
     "execution_count": 12,
     "metadata": {},
     "output_type": "execute_result"
    }
   ],
   "source": [
    "image2 = image2.resize(image1.size)\n",
    "image2.size"
   ]
  },
  {
   "cell_type": "code",
   "execution_count": 22,
   "metadata": {},
   "outputs": [],
   "source": [
    "import pickle\n",
    "import numpy as np\n",
    "\n",
    "def load_shots(file_name=None):\n",
    "    \"\"\"Load a `pickle` to a `numpy.ndarray`.\n",
    "\n",
    "    Parameters\n",
    "    ----------\n",
    "    filename: str, optional by default shot_number_#.dat\n",
    "        The filename to save the data as a `pickle`\n",
    "\n",
    "    Returns\n",
    "    -------\n",
    "    array: `numpy.ndarray`\n",
    "        The data\n",
    "\n",
    "    \"\"\"\n",
    "\n",
    "    with open(file_name, \"rb\") as f:\n",
    "        array = np.asarray(pickle.load(f), dtype=float)\n",
    "    return array"
   ]
  },
  {
   "cell_type": "code",
   "execution_count": 23,
   "metadata": {},
   "outputs": [
    {
     "data": {
      "text/plain": [
       "array([[0.00000000e+00, 0.00000000e+00, 0.00000000e+00, ...,\n",
       "        0.00000000e+00, 0.00000000e+00, 0.00000000e+00],\n",
       "       [0.00000000e+00, 0.00000000e+00, 0.00000000e+00, ...,\n",
       "        0.00000000e+00, 0.00000000e+00, 0.00000000e+00],\n",
       "       [0.00000000e+00, 0.00000000e+00, 0.00000000e+00, ...,\n",
       "        0.00000000e+00, 0.00000000e+00, 0.00000000e+00],\n",
       "       ...,\n",
       "       [6.05248748e-06, 6.05709782e-06, 5.79909842e-06, ...,\n",
       "        5.79183276e-06, 6.12123652e-06, 6.19926250e-06],\n",
       "       [6.06644009e-06, 6.01030630e-06, 5.70104761e-06, ...,\n",
       "        5.68715204e-06, 6.06524176e-06, 6.20124016e-06],\n",
       "       [6.07264028e-06, 5.95774122e-06, 5.59937139e-06, ...,\n",
       "        5.57923501e-06, 6.00384318e-06, 6.19580433e-06]])"
      ]
     },
     "execution_count": 23,
     "metadata": {},
     "output_type": "execute_result"
    }
   ],
   "source": [
    "load_shots(file_name=\"/Users/yw11823/ACSE/irp/spyro/shots/shot_record_1.dat\")"
   ]
  },
  {
   "cell_type": "code",
   "execution_count": 3,
   "metadata": {},
   "outputs": [
    {
     "name": "stdout",
     "output_type": "stream",
     "text": [
      "INFO: Distributing 3 shot(s) across 1 core(s). Each shot is using 1 cores\n",
      "  rank 0 on ensemble 0 owns 7339 elements and can access 3827 vertices\n"
     ]
    },
    {
     "name": "stderr",
     "output_type": "stream",
     "text": [
      "/Users/yw11823/ACSE/irp/firedrake/src/firedrake/firedrake/interpolation.py:385: FutureWarning: The use of `interpolate` to perform the numerical interpolation is deprecated.\n",
      "This feature will be removed very shortly.\n",
      "\n",
      "Instead, import `interpolate` from the `firedrake.__future__` module to update\n",
      "the interpolation's behaviour to return the symbolic `ufl.Interpolate` object associated\n",
      "with this interpolation.\n",
      "\n",
      "You can then assemble the resulting object to get the interpolated quantity\n",
      "of interest. For example,\n",
      "\n",
      "```\n",
      "from firedrake.__future__ import interpolate\n",
      "...\n",
      "\n",
      "assemble(interpolate(expr, V))\n",
      "```\n",
      "\n",
      "Alternatively, you can also perform other symbolic operations on the interpolation operator, such as taking\n",
      "the derivative, and then assemble the resulting form.\n",
      "\n",
      "  warnings.warn(\"\"\"The use of `interpolate` to perform the numerical interpolation is deprecated.\n"
     ]
    },
    {
     "name": "stdout",
     "output_type": "stream",
     "text": [
      "INFO: converting from m/s to km/s\n"
     ]
    },
    {
     "name": "stderr",
     "output_type": "stream",
     "text": [
      "/Users/yw11823/ACSE/irp/firedrake/src/firedrake/firedrake/_deprecation.py:65: UserWarning: The use of `File` for output is deprecated, please update your code to use `VTKFile` from `firedrake.output`.\n",
      "  warn(\n",
      "/Users/yw11823/ACSE/irp/firedrake/src/firedrake/firedrake/function.py:325: FutureWarning: The .split() method is deprecated, please use the .subfunctions property instead\n",
      "  warnings.warn(\"The .split() method is deprecated, please use the .subfunctions property instead\", category=FutureWarning)\n",
      "/Users/yw11823/ACSE/irp/firedrake/src/ufl/ufl/utils/sorting.py:84: UserWarning: Applying str() to a metadata value of type QuadratureRule, don't know if this is safe.\n",
      "  warnings.warn(f\"Applying str() to a metadata value of type {type(value).__name__}, \"\n",
      "/Users/yw11823/ACSE/irp/firedrake/src/ufl/ufl/utils/sorting.py:84: UserWarning: Applying str() to a metadata value of type QuadratureRule, don't know if this is safe.\n",
      "  warnings.warn(f\"Applying str() to a metadata value of type {type(value).__name__}, \"\n",
      "/Users/yw11823/ACSE/irp/firedrake/src/firedrake/firedrake/function.py:325: FutureWarning: The .split() method is deprecated, please use the .subfunctions property instead\n",
      "  warnings.warn(\"The .split() method is deprecated, please use the .subfunctions property instead\", category=FutureWarning)\n",
      "/Users/yw11823/ACSE/irp/firedrake/src/firedrake/firedrake/function.py:325: FutureWarning: The .split() method is deprecated, please use the .subfunctions property instead\n",
      "  warnings.warn(\"The .split() method is deprecated, please use the .subfunctions property instead\", category=FutureWarning)\n"
     ]
    },
    {
     "ename": "AssertionError",
     "evalue": "Numerical instability. Try reducing dt or building the mesh differently",
     "output_type": "error",
     "traceback": [
      "\u001b[0;31m---------------------------------------------------------------------------\u001b[0m",
      "\u001b[0;31mAssertionError\u001b[0m                            Traceback (most recent call last)",
      "Cell \u001b[0;32mIn[3], line 66\u001b[0m\n\u001b[1;32m     64\u001b[0m wavelet \u001b[38;5;241m=\u001b[39m spyro\u001b[38;5;241m.\u001b[39mfull_ricker_wavelet(dt\u001b[38;5;241m=\u001b[39mdt,tf\u001b[38;5;241m=\u001b[39mtf,freq\u001b[38;5;241m=\u001b[39mfreq,)\n\u001b[1;32m     65\u001b[0m start_time \u001b[38;5;241m=\u001b[39m time\u001b[38;5;241m.\u001b[39mtime()\n\u001b[0;32m---> 66\u001b[0m p, p_r \u001b[38;5;241m=\u001b[39m \u001b[43mspyro\u001b[49m\u001b[38;5;241;43m.\u001b[39;49m\u001b[43msolvers\u001b[49m\u001b[38;5;241;43m.\u001b[39;49m\u001b[43mforward\u001b[49m\u001b[43m(\u001b[49m\u001b[43mmodel\u001b[49m\u001b[43m,\u001b[49m\u001b[43m \u001b[49m\u001b[43mmesh\u001b[49m\u001b[43m,\u001b[49m\u001b[43m \u001b[49m\u001b[43mcomm\u001b[49m\u001b[43m,\u001b[49m\u001b[43m \u001b[49m\u001b[43mvp\u001b[49m\u001b[43m,\u001b[49m\u001b[43m \u001b[49m\u001b[43msources\u001b[49m\u001b[43m,\u001b[49m\u001b[43m \u001b[49m\u001b[43mwavelet\u001b[49m\u001b[43m,\u001b[49m\u001b[43m \u001b[49m\u001b[43mreceivers\u001b[49m\u001b[43m)\u001b[49m\n\u001b[1;32m     67\u001b[0m end_time \u001b[38;5;241m=\u001b[39m time\u001b[38;5;241m.\u001b[39mtime()\n\u001b[1;32m     68\u001b[0m running_time \u001b[38;5;241m=\u001b[39m end_time \u001b[38;5;241m-\u001b[39m start_time\n",
      "File \u001b[0;32m~/ACSE/irp/spyro/spyro/io/io.py:112\u001b[0m, in \u001b[0;36mensemble_forward.<locals>.wrapper\u001b[0;34m(*args, **kwargs)\u001b[0m\n\u001b[1;32m    110\u001b[0m \u001b[38;5;28;01mfor\u001b[39;00m snum \u001b[38;5;129;01min\u001b[39;00m \u001b[38;5;28mrange\u001b[39m(num):\n\u001b[1;32m    111\u001b[0m     \u001b[38;5;28;01mif\u001b[39;00m is_owner(_comm, snum):\n\u001b[0;32m--> 112\u001b[0m         u, u_r \u001b[38;5;241m=\u001b[39m \u001b[43mfunc\u001b[49m\u001b[43m(\u001b[49m\u001b[38;5;241;43m*\u001b[39;49m\u001b[43margs\u001b[49m\u001b[43m,\u001b[49m\u001b[43m \u001b[49m\u001b[38;5;241;43m*\u001b[39;49m\u001b[38;5;241;43m*\u001b[39;49m\u001b[38;5;28;43mdict\u001b[39;49m\u001b[43m(\u001b[49m\u001b[43mkwargs\u001b[49m\u001b[43m,\u001b[49m\u001b[43m \u001b[49m\u001b[43msource_num\u001b[49m\u001b[38;5;241;43m=\u001b[39;49m\u001b[43msnum\u001b[49m\u001b[43m)\u001b[49m\u001b[43m)\u001b[49m\n\u001b[1;32m    113\u001b[0m         \u001b[38;5;28;01mreturn\u001b[39;00m u, u_r\n",
      "File \u001b[0;32m~/ACSE/irp/spyro/spyro/solvers/forward.py:279\u001b[0m, in \u001b[0;36mforward\u001b[0;34m(model, mesh, comm, c, excitations, wavelet, receivers, source_num, output)\u001b[0m\n\u001b[1;32m    275\u001b[0m     save_step \u001b[38;5;241m+\u001b[39m\u001b[38;5;241m=\u001b[39m \u001b[38;5;241m1\u001b[39m\n\u001b[1;32m    277\u001b[0m \u001b[38;5;28;01mif\u001b[39;00m step \u001b[38;5;241m%\u001b[39m nspool \u001b[38;5;241m==\u001b[39m \u001b[38;5;241m0\u001b[39m:\n\u001b[1;32m    278\u001b[0m     \u001b[38;5;28;01massert\u001b[39;00m (\n\u001b[0;32m--> 279\u001b[0m         norm(u_n) \u001b[38;5;241m<\u001b[39m \u001b[38;5;241m1\u001b[39m\n\u001b[1;32m    280\u001b[0m     ), \u001b[38;5;124m\"\u001b[39m\u001b[38;5;124mNumerical instability. Try reducing dt or building the mesh differently\u001b[39m\u001b[38;5;124m\"\u001b[39m\n\u001b[1;32m    281\u001b[0m     \u001b[38;5;28;01mif\u001b[39;00m output:\n\u001b[1;32m    282\u001b[0m         outfile\u001b[38;5;241m.\u001b[39mwrite(u_n, time\u001b[38;5;241m=\u001b[39mt, name\u001b[38;5;241m=\u001b[39m\u001b[38;5;124m\"\u001b[39m\u001b[38;5;124mPressure\u001b[39m\u001b[38;5;124m\"\u001b[39m)\n",
      "\u001b[0;31mAssertionError\u001b[0m: Numerical instability. Try reducing dt or building the mesh differently"
     ]
    }
   ],
   "source": [
    "number_sou = 3\n",
    "number_rec = 101\n",
    "sou = spyro.create_transect((-0.01, 1.0), (-0.01, 15.0), 3) # in km\n",
    "rev = spyro.create_transect((-0.10, 0.1), (-0.10, 17.0), 101)  # in km\n",
    "\n",
    "model = {}\n",
    "\n",
    "model[\"opts\"] = {\n",
    "    \"method\": \"KMV\",  # either CG or KMV\n",
    "    \"quadrature\": \"KMV\",  # Equi or KMV\n",
    "    \"degree\": 5,  # p order\n",
    "    \"dimension\": 2,  # dimension\n",
    "}\n",
    "model[\"parallelism\"] = {\n",
    "    \"type\": \"spatial\",\n",
    "}\n",
    "model[\"mesh\"] = {\n",
    "    \"Lz\": 3.5,  # depth in km - always positive\n",
    "    \"Lx\": 10.0,  # width in km - always positive\n",
    "    \"Ly\": 0.0,  # thickness in km - always positive\n",
    "    \"meshfile\": \"/Users/yw11823/ACSE/irp/spyro/FWI_2D_DATA/meshes/marmousi_exact.msh\",\n",
    "    \"initmodel\": \"not_used.hdf5\",\n",
    "    \"truemodel\": \"/Users/yw11823/ACSE/irp/spyro/FWI_2D_DATA/velocity_models/marmousi_exact.hdf5\",\n",
    "}\n",
    "model[\"BCs\"] = {\n",
    "    \"status\": True,  # True or false\n",
    "    \"outer_bc\": \"non-reflective\",  # None or non-reflective (outer boundary condition)\n",
    "    \"damping_type\": \"polynomial\",  # polynomial, hyperbolic, shifted_hyperbolic\n",
    "    \"exponent\": 2,  # damping layer has a exponent variation\n",
    "    \"cmax\": 4.5,  # maximum acoustic wave velocity in PML - km/s\n",
    "    \"R\": 1e-6,  # theoretical reflection coefficient\n",
    "    \"lz\": 0.9,  # thickness of the PML in the z-direction (km) - always positive\n",
    "    \"lx\": 0.9,  # thickness of the PML in the x-direction (km) - always positive\n",
    "    \"ly\": 0.0,  # thickness of the PML in the y-direction (km) - always positive\n",
    "}\n",
    "model[\"acquisition\"] = {\n",
    "    \"source_type\": \"Ricker\",\n",
    "    \"num_sources\": number_sou,\n",
    "    \"source_pos\": sou,\n",
    "    \"frequency\": 5.0,\n",
    "    \"delay\": 1.0,\n",
    "    \"num_receivers\": number_rec,\n",
    "    \"receiver_locations\": rev,\n",
    "}\n",
    "model[\"timeaxis\"] = {\n",
    "    \"t0\": 0.0,  # Initial time for event\n",
    "    \"tf\": 2.00,  # Final time for event\n",
    "    \"dt\": 0.001,\n",
    "    \"amplitude\": 1,  # the Ricker has an amplitude of 1.\n",
    "    \"nspool\": 100,  # how frequently to output solution to pvds\n",
    "    \"fspool\": 99999,  # how frequently to save solution to RAM\n",
    "}\n",
    "comm = spyro.utils.mpi_init(model)\n",
    "mesh, V = spyro.io.read_mesh(model, comm)\n",
    "vp = spyro.io.interpolate(model, mesh, V, guess=False)\n",
    "if comm.ensemble_comm.rank == 0:\n",
    "    File(\"true_velocity.pvd\", comm=comm.comm).write(vp)\n",
    "sources = spyro.Sources(model, mesh, V, comm)\n",
    "receivers = spyro.Receivers(model, mesh, V, comm)\n",
    "\n",
    "dt=model[\"timeaxis\"][\"dt\"]\n",
    "tf=model[\"timeaxis\"][\"tf\"]\n",
    "freq=model[\"acquisition\"][\"frequency\"]\n",
    "wavelet = spyro.full_ricker_wavelet(dt=dt,tf=tf,freq=freq,)\n",
    "start_time = time.time()\n",
    "p, p_r = spyro.solvers.forward(model, mesh, comm, vp, sources, wavelet, receivers)\n",
    "end_time = time.time()\n",
    "running_time = end_time - start_time\n",
    "print(\"Running Time: {:.2f} seconds\".format(running_time))\n",
    "# spyro.plots.plot_shots(model, comm, p_r, vmin=-1e-3, vmax=1e-3)\n",
    "spyro.io.save_shots(model, comm, p_r, file_name=\"M2d\")"
   ]
  }
 ],
 "metadata": {
  "kernelspec": {
   "display_name": "base",
   "language": "python",
   "name": "python3"
  },
  "language_info": {
   "codemirror_mode": {
    "name": "ipython",
    "version": 3
   },
   "file_extension": ".py",
   "mimetype": "text/x-python",
   "name": "python",
   "nbconvert_exporter": "python",
   "pygments_lexer": "ipython3",
   "version": "3.11.9"
  }
 },
 "nbformat": 4,
 "nbformat_minor": 2
}
