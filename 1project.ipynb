{
 "cells": [
  {
   "cell_type": "markdown",
   "metadata": {},
   "source": [
    "# SIMPLE CIRCLE IN 2D IN MIDDEL\n",
    "\n",
    "comparing wite the firedrake https://github.com/firedrakeproject/firedrake/blob/dolci/fwi_demo/demos/full_waveform_inversion/full_waveform_inversion.py.rst exampel"
   ]
  },
  {
   "cell_type": "code",
   "execution_count": 1,
   "metadata": {},
   "outputs": [],
   "source": [
    "import sys\n",
    "sys.path.append(\"/Users/yw11823/ACSE/irp/spyro\")\n",
    "\n",
    "import os\n",
    "os.environ[\"OMP_NUM_THREADS\"] = \"1\"\n",
    "\n",
    "from firedrake import *\n",
    "import numpy as np\n",
    "import finat\n",
    "from ROL.firedrake_vector import FiredrakeVector as FeVector\n",
    "import ROL\n",
    "from mpi4py import MPI\n",
    "import psutil\n",
    "\n",
    "import spyro"
   ]
  },
  {
   "cell_type": "markdown",
   "metadata": {},
   "source": [
    "We consider a two dimensional square domain with side length 1.0 km. The mesh is created over the ？？？The basic input for the FWI problem are defined as follows:"
   ]
  },
  {
   "cell_type": "code",
   "execution_count": 2,
   "metadata": {},
   "outputs": [],
   "source": [
    "sou_pos = [(0, 0.5)]\n",
    "rec_pos = spyro.create_transect((1.0, 0.0), (1.0, 1.0), 980)\n",
    "\n",
    "# t0 =  0.0, \n",
    "# tf = 2.0, \n",
    "# dt = 5e-4,\n",
    "# freq = 8.0, \n",
    "\n",
    "model = {}\n",
    "model[\"opts\"] = {\n",
    "    \"method\": \"KMV\", \n",
    "    \"quadrature\": \"KMV\", \n",
    "    \"degree\": 1, \n",
    "    \"dimension\": 2, \n",
    "}\n",
    "model[\"parallelism\"] = {\n",
    "    \"type\": \"spatial\", \n",
    "}\n",
    "model[\"mesh\"] = {\n",
    "    \"Lz\": 1.0, \n",
    "    \"Lx\": 1.0, \n",
    "    \"Ly\": 0.0, \n",
    "    \"meshfile\": \"not_used.msh\", \n",
    "    \"initmodel\": \"not_used.hdf5\", \n",
    "    \"truemodel\": \"not_used.hdf5\", \n",
    "}\n",
    "model[\"BCs\"] = {\n",
    "    \"status\": True, \n",
    "    \"outer_bc\": \"non-reflective\", \n",
    "    \"damping_type\": \"polynomial\", \n",
    "    \"exponent\": 2, \n",
    "    \"cmax\": 4.5, \n",
    "    \"R\": 1e-6, \n",
    "    \"lz\": 0.25, \n",
    "    \"lx\": 0.25,  \n",
    "    \"ly\": 0.0, \n",
    "}\n",
    "model[\"acquisition\"] = {\n",
    "    \"source_type\": \"Ricker\", \n",
    "    \"source_pos\": sou_pos, \n",
    "    \"frequency\": 8.0, \n",
    "    \"delay\": 0.1, \n",
    "    \"receiver_locations\": rec_pos, \n",
    "}\n",
    "model[\"timeaxis\"] = {\n",
    "    \"t0\": 0.0, \n",
    "    \"tf\": 2.0, \n",
    "    \"dt\": 5e-4, \n",
    "    \"amplitude\": 1, \n",
    "    \"nspool\": 100, \n",
    "    \"fspool\": 100, \n",
    "}\n"
   ]
  },
  {
   "cell_type": "markdown",
   "metadata": {},
   "source": [
    "We are using a 2D domain, 980 receivers, and 1 sources. Sources and receivers locations is illustrated in the following figure:"
   ]
  },
  {
   "cell_type": "code",
   "execution_count": 3,
   "metadata": {},
   "outputs": [
    {
     "data": {
      "image/png": "[encoded data removed]",
      "text/plain": [
       "<Figure size 640x480 with 1 Axes>"
      ]
     },
     "metadata": {},
     "output_type": "display_data"
    }
   ],
   "source": [
    "import matplotlib.pyplot as plt \n",
    "\n",
    "# Plotting\n",
    "fig, ax = plt.subplots()\n",
    "ax.plot(*zip(*sou_pos), 'ro', label='Source')  # red dot for source\n",
    "ax.plot(*zip(*rec_pos), 'bs', label='Receivers')  # blue squares for receivers\n",
    "\n",
    "# Setting the axis limits to match the example\n",
    "ax.set_xlim(-0.05, 1.1)\n",
    "ax.set_ylim(0, 1.1)\n",
    "\n",
    "# Adding a grid and legend\n",
    "ax.grid(True)\n",
    "ax.legend()\n",
    "ax.set_facecolor('gray')\n",
    "\n",
    "# Adding labels\n",
    "ax.set_xlabel('X position')\n",
    "ax.set_ylabel('Y position')\n",
    "ax.set_title('Source and Receiver Positions')\n",
    "\n",
    "plt.show()\n"
   ]
  },
  {
   "cell_type": "code",
   "execution_count": 4,
   "metadata": {},
   "outputs": [],
   "source": [
    "# mesh = UnitSquareMesh(100, 100, 1.0, 1.0)\n",
    "mesh = RectangleMesh(100, 100, 1.0, 1.0)\n",
    "# mesh.coordinates.dat.data[:, 0] -= 0.25 将x坐标向左平移0.25个单位\n",
    "# mesh.coordinates.dat.data[:, 1] -= 1.25 将y坐标向下平移1.25个单位\n",
    "\n",
    "comm = spyro.utils.mpi_init(model)\n",
    "element = spyro.domains.space.FE_method(mesh, model[\"opts\"][\"method\"], model[\"opts\"][\"degree\"])\n",
    "V = FunctionSpace(mesh, element)"
   ]
  },
  {
   "cell_type": "markdown",
   "metadata": {},
   "source": [
    "We consider a two dimensional square domain with side length 1.0 km. And a two layer simple velocity model with the velocity to 3.0 inside the circle (where the condition is true) and to 2.5 outside the circle (where the condition is false). Velocity graph is illustrated in the following figure:"
   ]
  },
  {
   "cell_type": "code",
   "execution_count": 5,
   "metadata": {},
   "outputs": [
    {
     "name": "stderr",
     "output_type": "stream",
     "text": [
      "/Users/yw11823/ACSE/irp/firedrake/src/firedrake/firedrake/_deprecation.py:65: UserWarning: The use of `File` for output is deprecated, please update your code to use `VTKFile` from `firedrake.output`.\n",
      "  warn(\n"
     ]
    }
   ],
   "source": [
    "# Create a simple two-layer seismic velocity model `vp`.\n",
    "x, y = SpatialCoordinate(mesh)\n",
    "radius = 0.3\n",
    "center_x, center_y = 0.5, 0.5\n",
    "condition = (x - center_x)**2 + (y - center_y)**2 < radius**2\n",
    "velocity = conditional(condition, 3.0, 2.5)\n",
    "vp = Function(V, name=\"velocity\").interpolate(velocity)\n",
    "File(\"true_velocity_model_circle.pvd\").write(vp)\n"
   ]
  },
  {
   "cell_type": "markdown",
   "metadata": {},
   "source": [
    "加图"
   ]
  },
  {
   "cell_type": "markdown",
   "metadata": {},
   "source": [
    "Acquisition geometry\n",
    "\n",
    "Wave graph is illustrated in the following figure:"
   ]
  },
  {
   "cell_type": "code",
   "execution_count": 6,
   "metadata": {},
   "outputs": [],
   "source": [
    "sources = spyro.Sources(model, mesh, V, comm)\n",
    "receivers = spyro.Receivers(model, mesh, V, comm)"
   ]
  },
  {
   "cell_type": "code",
   "execution_count": 7,
   "metadata": {},
   "outputs": [],
   "source": [
    "dt=model[\"timeaxis\"][\"dt\"]\n",
    "tf=model[\"timeaxis\"][\"tf\"]\n",
    "freq=model[\"acquisition\"][\"frequency\"]"
   ]
  },
  {
   "cell_type": "code",
   "execution_count": 8,
   "metadata": {},
   "outputs": [
    {
     "data": {
      "image/png": "[encoded data removed]",
      "text/plain": [
       "<Figure size 800x500 with 1 Axes>"
      ]
     },
     "metadata": {},
     "output_type": "display_data"
    }
   ],
   "source": [
    "wavelet = spyro.full_ricker_wavelet( dt= dt, tf = tf, freq= freq)\n",
    "\n",
    "# 绘图\n",
    "plt.figure(figsize=(8, 5))\n",
    "plt.plot( wavelet, color='blue', linewidth=1.5, label=f'Ricker Wavelet (Freq={freq} Hz)')\n",
    "plt.xlabel('Time (s)')\n",
    "plt.ylabel('Amplitude')\n",
    "plt.grid(True)\n",
    "plt.legend()\n",
    "plt.tight_layout()\n",
    "plt.show()"
   ]
  },
  {
   "cell_type": "markdown",
   "metadata": {},
   "source": [
    "Perform a seismic forward simulation, then plot and save the pressure field data at the receivers.\n"
   ]
  },
  {
   "cell_type": "code",
   "execution_count": 9,
   "metadata": {},
   "outputs": [
    {
     "name": "stderr",
     "output_type": "stream",
     "text": [
      "/Users/yw11823/ACSE/irp/firedrake/src/firedrake/firedrake/function.py:325: FutureWarning: The .split() method is deprecated, please use the .subfunctions property instead\n",
      "  warnings.warn(\"The .split() method is deprecated, please use the .subfunctions property instead\", category=FutureWarning)\n",
      "/Users/yw11823/ACSE/irp/firedrake/src/ufl/ufl/utils/sorting.py:84: UserWarning: Applying str() to a metadata value of type QuadratureRule, don't know if this is safe.\n",
      "  warnings.warn(f\"Applying str() to a metadata value of type {type(value).__name__}, \"\n",
      "/Users/yw11823/ACSE/irp/firedrake/src/ufl/ufl/utils/sorting.py:84: UserWarning: Applying str() to a metadata value of type QuadratureRule, don't know if this is safe.\n",
      "  warnings.warn(f\"Applying str() to a metadata value of type {type(value).__name__}, \"\n",
      "/Users/yw11823/ACSE/irp/firedrake/src/firedrake/firedrake/function.py:325: FutureWarning: The .split() method is deprecated, please use the .subfunctions property instead\n",
      "  warnings.warn(\"The .split() method is deprecated, please use the .subfunctions property instead\", category=FutureWarning)\n",
      "/Users/yw11823/ACSE/irp/firedrake/src/firedrake/firedrake/function.py:325: FutureWarning: The .split() method is deprecated, please use the .subfunctions property instead\n",
      "  warnings.warn(\"The .split() method is deprecated, please use the .subfunctions property instead\", category=FutureWarning)\n"
     ]
    },
    {
     "name": "stdout",
     "output_type": "stream",
     "text": [
      "Simulation time is:     0.0495 seconds\n",
      "Simulation time is:     0.0995 seconds\n",
      "Simulation time is:     0.1495 seconds\n",
      "Simulation time is:     0.1995 seconds\n",
      "Simulation time is:     0.2495 seconds\n",
      "Simulation time is:     0.2995 seconds\n",
      "Simulation time is:     0.3495 seconds\n",
      "Simulation time is:     0.3995 seconds\n",
      "Simulation time is:     0.4495 seconds\n",
      "Simulation time is:     0.4995 seconds\n",
      "Simulation time is:     0.5495 seconds\n",
      "Simulation time is:     0.5995 seconds\n",
      "Simulation time is:     0.6495 seconds\n",
      "Simulation time is:     0.6995 seconds\n",
      "Simulation time is:     0.7495 seconds\n",
      "Simulation time is:     0.7995 seconds\n",
      "Simulation time is:     0.8495 seconds\n",
      "Simulation time is:     0.8995 seconds\n",
      "Simulation time is:     0.9495 seconds\n",
      "Simulation time is:     0.9995 seconds\n",
      "Simulation time is:       1.05 seconds\n",
      "Simulation time is:      1.099 seconds\n",
      "Simulation time is:      1.149 seconds\n",
      "Simulation time is:        1.2 seconds\n",
      "Simulation time is:       1.25 seconds\n",
      "Simulation time is:        1.3 seconds\n",
      "Simulation time is:      1.349 seconds\n",
      "Simulation time is:      1.399 seconds\n",
      "Simulation time is:       1.45 seconds\n",
      "Simulation time is:        1.5 seconds\n",
      "Simulation time is:       1.55 seconds\n",
      "Simulation time is:        1.6 seconds\n",
      "Simulation time is:      1.649 seconds\n",
      "Simulation time is:        1.7 seconds\n",
      "Simulation time is:       1.75 seconds\n",
      "Simulation time is:        1.8 seconds\n",
      "Simulation time is:       1.85 seconds\n",
      "Simulation time is:      1.899 seconds\n",
      "Simulation time is:       1.95 seconds\n"
     ]
    }
   ],
   "source": [
    "p_field, p_at_recv = spyro.solvers.forward(model, mesh, comm, vp, sources, wavelet, receivers)\n",
    "spyro.plots.plot_shots(model, comm, p_at_recv)\n",
    "spyro.io.save_shots(model, comm, p_at_recv)"
   ]
  },
  {
   "cell_type": "code",
   "execution_count": 10,
   "metadata": {},
   "outputs": [
    {
     "data": {
      "text/plain": [
       "array([[0.00000000e+00, 0.00000000e+00, 0.00000000e+00, ...,\n",
       "        0.00000000e+00, 0.00000000e+00, 0.00000000e+00],\n",
       "       [0.00000000e+00, 0.00000000e+00, 0.00000000e+00, ...,\n",
       "        0.00000000e+00, 0.00000000e+00, 0.00000000e+00],\n",
       "       [0.00000000e+00, 0.00000000e+00, 0.00000000e+00, ...,\n",
       "        0.00000000e+00, 0.00000000e+00, 0.00000000e+00],\n",
       "       ...,\n",
       "       [7.16741416e-08, 7.12808948e-08, 7.08876480e-08, ...,\n",
       "        7.12844523e-08, 7.16821821e-08, 7.20799119e-08],\n",
       "       [7.12306417e-08, 7.08286287e-08, 7.04266156e-08, ...,\n",
       "        7.08108404e-08, 7.12182505e-08, 7.16256606e-08],\n",
       "       [7.07795522e-08, 7.03704044e-08, 6.99612565e-08, ...,\n",
       "        7.03279447e-08, 7.07434682e-08, 7.11589916e-08]])"
      ]
     },
     "execution_count": 10,
     "metadata": {},
     "output_type": "execute_result"
    }
   ],
   "source": [
    "p_at_recv"
   ]
  },
  {
   "cell_type": "code",
   "execution_count": 11,
   "metadata": {},
   "outputs": [
    {
     "data": {
      "text/plain": [
       "[Coefficient(WithGeometry(FunctionSpace(<firedrake.mesh.MeshTopology object at 0x1438ccfd0>, FiniteElement('Kong-Mulder-Veldhuizen', triangle, 1, variant='KMV'), name=None), Mesh(VectorElement(FiniteElement('Lagrange', triangle, 1), dim=2), 1)), 95),\n",
       " Coefficient(WithGeometry(FunctionSpace(<firedrake.mesh.MeshTopology object at 0x1438ccfd0>, FiniteElement('Kong-Mulder-Veldhuizen', triangle, 1, variant='KMV'), name=None), Mesh(VectorElement(FiniteElement('Lagrange', triangle, 1), dim=2), 1)), 97),\n",
       " Coefficient(WithGeometry(FunctionSpace(<firedrake.mesh.MeshTopology object at 0x1438ccfd0>, FiniteElement('Kong-Mulder-Veldhuizen', triangle, 1, variant='KMV'), name=None), Mesh(VectorElement(FiniteElement('Lagrange', triangle, 1), dim=2), 1)), 99),\n",
       " Coefficient(WithGeometry(FunctionSpace(<firedrake.mesh.MeshTopology object at 0x1438ccfd0>, FiniteElement('Kong-Mulder-Veldhuizen', triangle, 1, variant='KMV'), name=None), Mesh(VectorElement(FiniteElement('Lagrange', triangle, 1), dim=2), 1)), 101),\n",
       " Coefficient(WithGeometry(FunctionSpace(<firedrake.mesh.MeshTopology object at 0x1438ccfd0>, FiniteElement('Kong-Mulder-Veldhuizen', triangle, 1, variant='KMV'), name=None), Mesh(VectorElement(FiniteElement('Lagrange', triangle, 1), dim=2), 1)), 103),\n",
       " Coefficient(WithGeometry(FunctionSpace(<firedrake.mesh.MeshTopology object at 0x1438ccfd0>, FiniteElement('Kong-Mulder-Veldhuizen', triangle, 1, variant='KMV'), name=None), Mesh(VectorElement(FiniteElement('Lagrange', triangle, 1), dim=2), 1)), 105),\n",
       " Coefficient(WithGeometry(FunctionSpace(<firedrake.mesh.MeshTopology object at 0x1438ccfd0>, FiniteElement('Kong-Mulder-Veldhuizen', triangle, 1, variant='KMV'), name=None), Mesh(VectorElement(FiniteElement('Lagrange', triangle, 1), dim=2), 1)), 107),\n",
       " Coefficient(WithGeometry(FunctionSpace(<firedrake.mesh.MeshTopology object at 0x1438ccfd0>, FiniteElement('Kong-Mulder-Veldhuizen', triangle, 1, variant='KMV'), name=None), Mesh(VectorElement(FiniteElement('Lagrange', triangle, 1), dim=2), 1)), 109),\n",
       " Coefficient(WithGeometry(FunctionSpace(<firedrake.mesh.MeshTopology object at 0x1438ccfd0>, FiniteElement('Kong-Mulder-Veldhuizen', triangle, 1, variant='KMV'), name=None), Mesh(VectorElement(FiniteElement('Lagrange', triangle, 1), dim=2), 1)), 111),\n",
       " Coefficient(WithGeometry(FunctionSpace(<firedrake.mesh.MeshTopology object at 0x1438ccfd0>, FiniteElement('Kong-Mulder-Veldhuizen', triangle, 1, variant='KMV'), name=None), Mesh(VectorElement(FiniteElement('Lagrange', triangle, 1), dim=2), 1)), 113),\n",
       " Coefficient(WithGeometry(FunctionSpace(<firedrake.mesh.MeshTopology object at 0x1438ccfd0>, FiniteElement('Kong-Mulder-Veldhuizen', triangle, 1, variant='KMV'), name=None), Mesh(VectorElement(FiniteElement('Lagrange', triangle, 1), dim=2), 1)), 115),\n",
       " Coefficient(WithGeometry(FunctionSpace(<firedrake.mesh.MeshTopology object at 0x1438ccfd0>, FiniteElement('Kong-Mulder-Veldhuizen', triangle, 1, variant='KMV'), name=None), Mesh(VectorElement(FiniteElement('Lagrange', triangle, 1), dim=2), 1)), 117),\n",
       " Coefficient(WithGeometry(FunctionSpace(<firedrake.mesh.MeshTopology object at 0x1438ccfd0>, FiniteElement('Kong-Mulder-Veldhuizen', triangle, 1, variant='KMV'), name=None), Mesh(VectorElement(FiniteElement('Lagrange', triangle, 1), dim=2), 1)), 119),\n",
       " Coefficient(WithGeometry(FunctionSpace(<firedrake.mesh.MeshTopology object at 0x1438ccfd0>, FiniteElement('Kong-Mulder-Veldhuizen', triangle, 1, variant='KMV'), name=None), Mesh(VectorElement(FiniteElement('Lagrange', triangle, 1), dim=2), 1)), 121),\n",
       " Coefficient(WithGeometry(FunctionSpace(<firedrake.mesh.MeshTopology object at 0x1438ccfd0>, FiniteElement('Kong-Mulder-Veldhuizen', triangle, 1, variant='KMV'), name=None), Mesh(VectorElement(FiniteElement('Lagrange', triangle, 1), dim=2), 1)), 123),\n",
       " Coefficient(WithGeometry(FunctionSpace(<firedrake.mesh.MeshTopology object at 0x1438ccfd0>, FiniteElement('Kong-Mulder-Veldhuizen', triangle, 1, variant='KMV'), name=None), Mesh(VectorElement(FiniteElement('Lagrange', triangle, 1), dim=2), 1)), 125),\n",
       " Coefficient(WithGeometry(FunctionSpace(<firedrake.mesh.MeshTopology object at 0x1438ccfd0>, FiniteElement('Kong-Mulder-Veldhuizen', triangle, 1, variant='KMV'), name=None), Mesh(VectorElement(FiniteElement('Lagrange', triangle, 1), dim=2), 1)), 127),\n",
       " Coefficient(WithGeometry(FunctionSpace(<firedrake.mesh.MeshTopology object at 0x1438ccfd0>, FiniteElement('Kong-Mulder-Veldhuizen', triangle, 1, variant='KMV'), name=None), Mesh(VectorElement(FiniteElement('Lagrange', triangle, 1), dim=2), 1)), 129),\n",
       " Coefficient(WithGeometry(FunctionSpace(<firedrake.mesh.MeshTopology object at 0x1438ccfd0>, FiniteElement('Kong-Mulder-Veldhuizen', triangle, 1, variant='KMV'), name=None), Mesh(VectorElement(FiniteElement('Lagrange', triangle, 1), dim=2), 1)), 131),\n",
       " Coefficient(WithGeometry(FunctionSpace(<firedrake.mesh.MeshTopology object at 0x1438ccfd0>, FiniteElement('Kong-Mulder-Veldhuizen', triangle, 1, variant='KMV'), name=None), Mesh(VectorElement(FiniteElement('Lagrange', triangle, 1), dim=2), 1)), 133),\n",
       " Coefficient(WithGeometry(FunctionSpace(<firedrake.mesh.MeshTopology object at 0x1438ccfd0>, FiniteElement('Kong-Mulder-Veldhuizen', triangle, 1, variant='KMV'), name=None), Mesh(VectorElement(FiniteElement('Lagrange', triangle, 1), dim=2), 1)), 135),\n",
       " Coefficient(WithGeometry(FunctionSpace(<firedrake.mesh.MeshTopology object at 0x1438ccfd0>, FiniteElement('Kong-Mulder-Veldhuizen', triangle, 1, variant='KMV'), name=None), Mesh(VectorElement(FiniteElement('Lagrange', triangle, 1), dim=2), 1)), 137),\n",
       " Coefficient(WithGeometry(FunctionSpace(<firedrake.mesh.MeshTopology object at 0x1438ccfd0>, FiniteElement('Kong-Mulder-Veldhuizen', triangle, 1, variant='KMV'), name=None), Mesh(VectorElement(FiniteElement('Lagrange', triangle, 1), dim=2), 1)), 139),\n",
       " Coefficient(WithGeometry(FunctionSpace(<firedrake.mesh.MeshTopology object at 0x1438ccfd0>, FiniteElement('Kong-Mulder-Veldhuizen', triangle, 1, variant='KMV'), name=None), Mesh(VectorElement(FiniteElement('Lagrange', triangle, 1), dim=2), 1)), 141),\n",
       " Coefficient(WithGeometry(FunctionSpace(<firedrake.mesh.MeshTopology object at 0x1438ccfd0>, FiniteElement('Kong-Mulder-Veldhuizen', triangle, 1, variant='KMV'), name=None), Mesh(VectorElement(FiniteElement('Lagrange', triangle, 1), dim=2), 1)), 143),\n",
       " Coefficient(WithGeometry(FunctionSpace(<firedrake.mesh.MeshTopology object at 0x1438ccfd0>, FiniteElement('Kong-Mulder-Veldhuizen', triangle, 1, variant='KMV'), name=None), Mesh(VectorElement(FiniteElement('Lagrange', triangle, 1), dim=2), 1)), 145),\n",
       " Coefficient(WithGeometry(FunctionSpace(<firedrake.mesh.MeshTopology object at 0x1438ccfd0>, FiniteElement('Kong-Mulder-Veldhuizen', triangle, 1, variant='KMV'), name=None), Mesh(VectorElement(FiniteElement('Lagrange', triangle, 1), dim=2), 1)), 147),\n",
       " Coefficient(WithGeometry(FunctionSpace(<firedrake.mesh.MeshTopology object at 0x1438ccfd0>, FiniteElement('Kong-Mulder-Veldhuizen', triangle, 1, variant='KMV'), name=None), Mesh(VectorElement(FiniteElement('Lagrange', triangle, 1), dim=2), 1)), 149),\n",
       " Coefficient(WithGeometry(FunctionSpace(<firedrake.mesh.MeshTopology object at 0x1438ccfd0>, FiniteElement('Kong-Mulder-Veldhuizen', triangle, 1, variant='KMV'), name=None), Mesh(VectorElement(FiniteElement('Lagrange', triangle, 1), dim=2), 1)), 151),\n",
       " Coefficient(WithGeometry(FunctionSpace(<firedrake.mesh.MeshTopology object at 0x1438ccfd0>, FiniteElement('Kong-Mulder-Veldhuizen', triangle, 1, variant='KMV'), name=None), Mesh(VectorElement(FiniteElement('Lagrange', triangle, 1), dim=2), 1)), 153),\n",
       " Coefficient(WithGeometry(FunctionSpace(<firedrake.mesh.MeshTopology object at 0x1438ccfd0>, FiniteElement('Kong-Mulder-Veldhuizen', triangle, 1, variant='KMV'), name=None), Mesh(VectorElement(FiniteElement('Lagrange', triangle, 1), dim=2), 1)), 155),\n",
       " Coefficient(WithGeometry(FunctionSpace(<firedrake.mesh.MeshTopology object at 0x1438ccfd0>, FiniteElement('Kong-Mulder-Veldhuizen', triangle, 1, variant='KMV'), name=None), Mesh(VectorElement(FiniteElement('Lagrange', triangle, 1), dim=2), 1)), 157),\n",
       " Coefficient(WithGeometry(FunctionSpace(<firedrake.mesh.MeshTopology object at 0x1438ccfd0>, FiniteElement('Kong-Mulder-Veldhuizen', triangle, 1, variant='KMV'), name=None), Mesh(VectorElement(FiniteElement('Lagrange', triangle, 1), dim=2), 1)), 159),\n",
       " Coefficient(WithGeometry(FunctionSpace(<firedrake.mesh.MeshTopology object at 0x1438ccfd0>, FiniteElement('Kong-Mulder-Veldhuizen', triangle, 1, variant='KMV'), name=None), Mesh(VectorElement(FiniteElement('Lagrange', triangle, 1), dim=2), 1)), 161),\n",
       " Coefficient(WithGeometry(FunctionSpace(<firedrake.mesh.MeshTopology object at 0x1438ccfd0>, FiniteElement('Kong-Mulder-Veldhuizen', triangle, 1, variant='KMV'), name=None), Mesh(VectorElement(FiniteElement('Lagrange', triangle, 1), dim=2), 1)), 163),\n",
       " Coefficient(WithGeometry(FunctionSpace(<firedrake.mesh.MeshTopology object at 0x1438ccfd0>, FiniteElement('Kong-Mulder-Veldhuizen', triangle, 1, variant='KMV'), name=None), Mesh(VectorElement(FiniteElement('Lagrange', triangle, 1), dim=2), 1)), 165),\n",
       " Coefficient(WithGeometry(FunctionSpace(<firedrake.mesh.MeshTopology object at 0x1438ccfd0>, FiniteElement('Kong-Mulder-Veldhuizen', triangle, 1, variant='KMV'), name=None), Mesh(VectorElement(FiniteElement('Lagrange', triangle, 1), dim=2), 1)), 167),\n",
       " Coefficient(WithGeometry(FunctionSpace(<firedrake.mesh.MeshTopology object at 0x1438ccfd0>, FiniteElement('Kong-Mulder-Veldhuizen', triangle, 1, variant='KMV'), name=None), Mesh(VectorElement(FiniteElement('Lagrange', triangle, 1), dim=2), 1)), 169),\n",
       " Coefficient(WithGeometry(FunctionSpace(<firedrake.mesh.MeshTopology object at 0x1438ccfd0>, FiniteElement('Kong-Mulder-Veldhuizen', triangle, 1, variant='KMV'), name=None), Mesh(VectorElement(FiniteElement('Lagrange', triangle, 1), dim=2), 1)), 171),\n",
       " Coefficient(WithGeometry(FunctionSpace(<firedrake.mesh.MeshTopology object at 0x1438ccfd0>, FiniteElement('Kong-Mulder-Veldhuizen', triangle, 1, variant='KMV'), name=None), Mesh(VectorElement(FiniteElement('Lagrange', triangle, 1), dim=2), 1)), 173)]"
      ]
     },
     "execution_count": 11,
     "metadata": {},
     "output_type": "execute_result"
    }
   ],
   "source": [
    "p_field"
   ]
  },
  {
   "cell_type": "markdown",
   "metadata": {},
   "source": [
    "# now, let us do the fwi\n",
    "\n",
    "1. initialization:\n",
    "Import necessary libraries and modules.\n",
    "Define the mesh, function space, and initial velocity model.\n",
    "2. Set Initial Guess Parameter\n",
    "3. Solve the Wave Equation useing the initial geuess velocity model\n",
    "4. Compute the Functional J: Calculate the objective functional J, such as the difference between the observed and simulated data.\n",
    "5. Compute the Gradient: Use the adjoint method to compute the gradient of the functional J with respect to the control parameter c_guess.\n",
    "6. Optimization Update: Update the parameter c_guess using a gradient-based optimization method, such as L-BFGS-B.\n",
    "7. Repeat Optimization Steps: "
   ]
  },
  {
   "cell_type": "code",
   "execution_count": 12,
   "metadata": {},
   "outputs": [],
   "source": [
    "outdir = \"out/\"\n",
    "if not os.path.exists(outdir):\n",
    "    os.mkdir(outdir)"
   ]
  },
  {
   "cell_type": "markdown",
   "metadata": {},
   "source": [
    "creat the inital velocity graph (smoothed)"
   ]
  },
  {
   "cell_type": "code",
   "execution_count": 13,
   "metadata": {},
   "outputs": [
    {
     "name": "stderr",
     "output_type": "stream",
     "text": [
      "/Users/yw11823/ACSE/irp/firedrake/src/firedrake/firedrake/_deprecation.py:65: UserWarning: The use of `File` for output is deprecated, please update your code to use `VTKFile` from `firedrake.output`.\n",
      "  warn(\n"
     ]
    }
   ],
   "source": [
    "# Create a simple two-layer seismic velocity model `vp`.\n",
    "x, y = SpatialCoordinate(mesh)\n",
    "radius = 0.3\n",
    "center_x, center_y = 0.5, 0.5\n",
    "condition = (x - center_x)**2 + (y - center_y)**2 < radius**2\n",
    "velocity = conditional(condition, 2.5, 2.5)\n",
    "vp = Function(V, name=\"velocity\").interpolate(velocity)\n",
    "File(\"initial_velocity_model_circle.pvd\").write(vp)\n",
    "\n",
    "## 加图！！"
   ]
  },
  {
   "cell_type": "code",
   "execution_count": 14,
   "metadata": {},
   "outputs": [
    {
     "name": "stderr",
     "output_type": "stream",
     "text": [
      "/Users/yw11823/ACSE/irp/firedrake/src/firedrake/firedrake/_deprecation.py:65: UserWarning: The use of `File` for output is deprecated, please update your code to use `VTKFile` from `firedrake.output`.\n",
      "  warn(\n"
     ]
    }
   ],
   "source": [
    "# Set up file output for control and gradient fields if on the master process, and define a lumped quadrature rule for integration.\n",
    "if comm.ensemble_comm.rank == 0:\n",
    "    control_file = File(outdir + \"control.pvd\", comm=comm.comm)\n",
    "    grad_file = File(outdir + \"grad.pvd\", comm=comm.comm)\n",
    "quad_rule = finat.quadrature.make_quadrature(V.finat_element.cell, V.ufl_element().degree(), \"KMV\")\n",
    "dxlump = dx(scheme=quad_rule)"
   ]
  },
  {
   "cell_type": "markdown",
   "metadata": {},
   "source": [
    "Define an L2 inner product class for vector operations and a function to regularize the gradient of the velocity model using finite element methods."
   ]
  },
  {
   "cell_type": "code",
   "execution_count": 15,
   "metadata": {},
   "outputs": [],
   "source": [
    "class L2Inner(object):\n",
    "    def __init__(self):\n",
    "        self.A = assemble(TrialFunction(V) * TestFunction(V) * dxlump, mat_type=\"matfree\")\n",
    "        self.Ap = as_backend_type(self.A).mat()\n",
    "\n",
    "    def eval(self, _u, _v):\n",
    "        upet = as_backend_type(_u).vec()\n",
    "        vpet = as_backend_type(_v).vec()\n",
    "        A_u = self.Ap.createVecLeft()\n",
    "        self.Ap.mult(upet, A_u)\n",
    "        return vpet.dot(A_u)\n",
    "\n",
    "def regularize_gradient(vp, dJ):\n",
    "    m_u = TrialFunction(V)\n",
    "    m_v = TestFunction(V)\n",
    "    mgrad = m_u * m_v * dx(scheme=quad_rule)\n",
    "    ffG = dot(grad(vp), grad(m_v)) * dx(scheme=quad_rule)\n",
    "    G = mgrad - ffG\n",
    "    lhsG, rhsG = lhs(G), rhs(G)\n",
    "    gradreg = Function(V)\n",
    "    grad_prob = LinearVariationalProblem(lhsG, rhsG, gradreg)\n",
    "    grad_solver = LinearVariationalSolver(\n",
    "        grad_prob,\n",
    "        solver_parameters={\n",
    "            \"ksp_type\": \"preonly\",\n",
    "            \"pc_type\": \"jacobi\",\n",
    "            \"mat_type\": \"matfree\",\n",
    "        },\n",
    "    )\n",
    "    grad_solver.solve()\n",
    "    dJ += gradreg\n",
    "    return dJ"
   ]
  },
  {
   "cell_type": "markdown",
   "metadata": {},
   "source": [
    " Opitimisation\n",
    "Define an objective class for optimization that computes the objective function value and its gradient for seismic inversion, and updates the velocity model based on optimization iterations."
   ]
  },
  {
   "cell_type": "code",
   "execution_count": 25,
   "metadata": {},
   "outputs": [],
   "source": [
    "class Objective(ROL.Objective):\n",
    "    def __init__(self, inner_product):\n",
    "        ROL.Objective.__init__(self)\n",
    "        self.inner_product = inner_product\n",
    "        self.p_guess = None\n",
    "        self.misfit = 0.0\n",
    "        self.p_exact_recv = spyro.io.load_shots(model, comm)\n",
    "\n",
    "    def value(self, x, tol):\n",
    "        J_total = np.zeros((1))\n",
    "        self.p_guess, p_guess_recv = spyro.solvers.forward(\n",
    "            model,\n",
    "            mesh,\n",
    "            comm,\n",
    "            vp,\n",
    "            sources,\n",
    "            wavelet,\n",
    "            receivers,\n",
    "        )\n",
    "        self.misfit = spyro.utils.evaluate_misfit(model, p_guess_recv, self.p_exact_recv)\n",
    "        J_total[0] += spyro.utils.compute_functional(model, self.misfit, velocity=vp)\n",
    "        J_total = COMM_WORLD.allreduce(J_total, op=MPI.SUM)\n",
    "        J_total[0] /= comm.ensemble_comm.size\n",
    "        if comm.comm.size > 1:\n",
    "            J_total[0] /= comm.comm.size\n",
    "        return J_total[0]\n",
    "    \n",
    "    def gradient(self, g, x, tol):\n",
    "        dJ = Function(V, name=\"gradient\")\n",
    "\n",
    "        print(\"Before calling spyro.solvers.gradient:\")\n",
    "        print(\"self.p_guess:\", self.p_guess)\n",
    "        print(\"model:\", model)\n",
    "        print(\"mesh:\", mesh)\n",
    "        print(\"comm:\", comm)\n",
    "        print(\"vp:\", vp)\n",
    "        print(\"receivers:\", receivers)\n",
    "        print(\"self.misfit:\", self.misfit)\n",
    "        \n",
    "        dJ_local = spyro.solvers.gradient(\n",
    "            model,\n",
    "            mesh,\n",
    "            comm,\n",
    "            vp,\n",
    "            receivers,\n",
    "            self.p_guess,\n",
    "            self.misfit,\n",
    "        )\n",
    "\n",
    "        print(\"After calling spyro.solvers.gradient:\")\n",
    "        if comm.ensemble_comm.size > 1:\n",
    "            comm.allreduce(dJ_local, dJ)\n",
    "        else:\n",
    "            dJ = dJ_local\n",
    "        dJ /= comm.ensemble_comm.size\n",
    "        if comm.comm.size > 1:\n",
    "            dJ /= comm.comm.size\n",
    "        if \"regularization\" in model[\"opts\"] and model[\"opts\"][\"regularization\"]:\n",
    "            dJ = regularize_gradient(vp, dJ)\n",
    "        if comm.ensemble_comm.rank == 0:\n",
    "            grad_file.write(dJ)\n",
    "        g.scale(0)\n",
    "        g.vec += dJ\n",
    "\n",
    "    def update(self, x, flag, iteration):\n",
    "        vp.assign(Function(V, x.vec, name=\"velocity\"))\n",
    "        if iteration >= 0:\n",
    "            if comm.ensemble_comm.rank == 0:\n",
    "                control_file.write(vp)"
   ]
  },
  {
   "cell_type": "markdown",
   "metadata": {},
   "source": [
    "Configure optimization parameters for the Limited-Memory BFGS method and Augmented Lagrangian approach using a parameter list."
   ]
  },
  {
   "cell_type": "code",
   "execution_count": 23,
   "metadata": {},
   "outputs": [
    {
     "name": "stdout",
     "output_type": "stream",
     "text": [
      "Before calling spyro.solvers.gradient:\n"
     ]
    },
    {
     "ename": "NameError",
     "evalue": "name 'self' is not defined",
     "output_type": "error",
     "traceback": [
      "\u001b[0;31m---------------------------------------------------------------------------\u001b[0m",
      "\u001b[0;31mNameError\u001b[0m                                 Traceback (most recent call last)",
      "Cell \u001b[0;32mIn[23], line 3\u001b[0m\n\u001b[1;32m      1\u001b[0m \u001b[38;5;66;03m# 调用 gradient 函数之前添加打印语句\u001b[39;00m\n\u001b[1;32m      2\u001b[0m \u001b[38;5;28mprint\u001b[39m(\u001b[38;5;124m\"\u001b[39m\u001b[38;5;124mBefore calling spyro.solvers.gradient:\u001b[39m\u001b[38;5;124m\"\u001b[39m)\n\u001b[0;32m----> 3\u001b[0m \u001b[38;5;28mprint\u001b[39m(\u001b[38;5;124m\"\u001b[39m\u001b[38;5;124mself.p_guess:\u001b[39m\u001b[38;5;124m\"\u001b[39m, \u001b[38;5;28;43mself\u001b[39;49m\u001b[38;5;241m.\u001b[39mp_guess)\n\u001b[1;32m      4\u001b[0m \u001b[38;5;28mprint\u001b[39m(\u001b[38;5;124m\"\u001b[39m\u001b[38;5;124mmodel:\u001b[39m\u001b[38;5;124m\"\u001b[39m, model)\n\u001b[1;32m      5\u001b[0m \u001b[38;5;28mprint\u001b[39m(\u001b[38;5;124m\"\u001b[39m\u001b[38;5;124mmesh:\u001b[39m\u001b[38;5;124m\"\u001b[39m, mesh)\n",
      "\u001b[0;31mNameError\u001b[0m: name 'self' is not defined"
     ]
    }
   ],
   "source": [
    "# 调用 gradient 函数之前添加打印语句\n",
    "print(\"Before calling spyro.solvers.gradient:\")\n",
    "print(\"self.p_guess:\", guess)\n",
    "print(\"model:\", model)\n",
    "print(\"mesh:\", mesh)\n",
    "print(\"comm:\", comm)\n",
    "print(\"vp:\", vp)\n",
    "print(\"receivers:\", receivers)\n",
    "print(\"self.misfit:\", res)\n",
    "\n",
    "dJ_local = spyro.solvers.gradient(\n",
    "    model,\n",
    "    mesh,\n",
    "    comm,\n",
    "    vp,\n",
    "    receivers,\n",
    "    guess,\n",
    "    residual,\n",
    ")\n",
    "\n",
    "print(\"After calling spyro.solvers.gradient:\")\n",
    "\n"
   ]
  },
  {
   "cell_type": "code",
   "execution_count": 17,
   "metadata": {},
   "outputs": [],
   "source": [
    "paramsDict = {\n",
    "    \"General\": {\"Secant\": {\"Type\": \"Limited-Memory BFGS\", \"Maximum Storage\": 10}},\n",
    "    \"Step\": {\n",
    "        \"Type\": \"Augmented Lagrangian\",\n",
    "        \"Augmented Lagrangian\": {\n",
    "            \"Subproblem Step Type\": \"Line Search\",\n",
    "            \"Subproblem Iteration Limit\": 5,\n",
    "        },\n",
    "        \"Line Search\": {\"Descent Method\": {\"Type\": \"Quasi-Newton Step\"}},\n",
    "    },\n",
    "    \"Status Test\": {\n",
    "        \"Gradient Tolerance\": 1e-15,\n",
    "        \"Iteration Limit\": 100,\n",
    "        \"Step Tolerance\": 1e-15,\n",
    "    },\n",
    "}\n",
    "\n",
    "params = ROL.ParameterList(paramsDict, \"Parameters\")"
   ]
  },
  {
   "cell_type": "code",
   "execution_count": null,
   "metadata": {},
   "outputs": [],
   "source": [
    "\n",
    "\n",
    "\n",
    "\n",
    "# # algo = ROL.Algorithm(\"Line Search\", params)\n",
    "\n",
    "# algo = ROL.LinMoreAlgorithm(params)\n",
    "\n",
    "# algo.run(opt, obj)\n",
    "\n",
    "# if comm.ensemble_comm.rank == 0:\n",
    "#     File(\"res.pvd\", comm=comm.comm).write(vp)"
   ]
  },
  {
   "cell_type": "code",
   "execution_count": 19,
   "metadata": {},
   "outputs": [
    {
     "name": "stderr",
     "output_type": "stream",
     "text": [
      "/Users/yw11823/ACSE/irp/firedrake/src/firedrake/firedrake/function.py:325: FutureWarning: The .split() method is deprecated, please use the .subfunctions property instead\n",
      "  warnings.warn(\"The .split() method is deprecated, please use the .subfunctions property instead\", category=FutureWarning)\n",
      "/Users/yw11823/ACSE/irp/firedrake/src/ufl/ufl/utils/sorting.py:84: UserWarning: Applying str() to a metadata value of type QuadratureRule, don't know if this is safe.\n",
      "  warnings.warn(f\"Applying str() to a metadata value of type {type(value).__name__}, \"\n"
     ]
    },
    {
     "name": "stdout",
     "output_type": "stream",
     "text": [
      "Simulation time is:     0.0495 seconds\n",
      "Simulation time is:     0.0995 seconds\n",
      "Simulation time is:     0.1495 seconds\n",
      "Simulation time is:     0.1995 seconds\n",
      "Simulation time is:     0.2495 seconds\n",
      "Simulation time is:     0.2995 seconds\n",
      "Simulation time is:     0.3495 seconds\n",
      "Simulation time is:     0.3995 seconds\n",
      "Simulation time is:     0.4495 seconds\n",
      "Simulation time is:     0.4995 seconds\n",
      "Simulation time is:     0.5495 seconds\n",
      "Simulation time is:     0.5995 seconds\n",
      "Simulation time is:     0.6495 seconds\n",
      "Simulation time is:     0.6995 seconds\n",
      "Simulation time is:     0.7495 seconds\n",
      "Simulation time is:     0.7995 seconds\n",
      "Simulation time is:     0.8495 seconds\n",
      "Simulation time is:     0.8995 seconds\n",
      "Simulation time is:     0.9495 seconds\n",
      "Simulation time is:     0.9995 seconds\n",
      "Simulation time is:       1.05 seconds\n",
      "Simulation time is:      1.099 seconds\n",
      "Simulation time is:      1.149 seconds\n",
      "Simulation time is:        1.2 seconds\n",
      "Simulation time is:       1.25 seconds\n",
      "Simulation time is:        1.3 seconds\n",
      "Simulation time is:      1.349 seconds\n",
      "Simulation time is:      1.399 seconds\n",
      "Simulation time is:       1.45 seconds\n",
      "Simulation time is:        1.5 seconds\n",
      "Simulation time is:       1.55 seconds\n",
      "Simulation time is:        1.6 seconds\n",
      "Simulation time is:      1.649 seconds\n",
      "Simulation time is:        1.7 seconds\n",
      "Simulation time is:       1.75 seconds\n",
      "Simulation time is:        1.8 seconds\n",
      "Simulation time is:       1.85 seconds\n",
      "Simulation time is:      1.899 seconds\n",
      "Simulation time is:       1.95 seconds\n"
     ]
    },
    {
     "name": "stderr",
     "output_type": "stream",
     "text": [
      "/Users/yw11823/ACSE/irp/firedrake/src/ufl/ufl/utils/sorting.py:84: UserWarning: Applying str() to a metadata value of type QuadratureRule, don't know if this is safe.\n",
      "  warnings.warn(f\"Applying str() to a metadata value of type {type(value).__name__}, \"\n",
      "/Users/yw11823/ACSE/irp/firedrake/src/firedrake/firedrake/function.py:325: FutureWarning: The .split() method is deprecated, please use the .subfunctions property instead\n",
      "  warnings.warn(\"The .split() method is deprecated, please use the .subfunctions property instead\", category=FutureWarning)\n",
      "/Users/yw11823/ACSE/irp/firedrake/src/ufl/ufl/utils/sorting.py:84: UserWarning: Applying str() to a metadata value of type QuadratureRule, don't know if this is safe.\n",
      "  warnings.warn(f\"Applying str() to a metadata value of type {type(value).__name__}, \"\n",
      "/Users/yw11823/ACSE/irp/firedrake/src/ufl/ufl/utils/sorting.py:84: UserWarning: Applying str() to a metadata value of type QuadratureRule, don't know if this is safe.\n",
      "  warnings.warn(f\"Applying str() to a metadata value of type {type(value).__name__}, \"\n"
     ]
    },
    {
     "name": "stdout",
     "output_type": "stream",
     "text": [
      "Simulation time is:       1.95 seconds\n"
     ]
    },
    {
     "name": "stderr",
     "output_type": "stream",
     "text": [
      "/Users/yw11823/ACSE/irp/firedrake/src/firedrake/firedrake/function.py:325: FutureWarning: The .split() method is deprecated, please use the .subfunctions property instead\n",
      "  warnings.warn(\"The .split() method is deprecated, please use the .subfunctions property instead\", category=FutureWarning)\n"
     ]
    },
    {
     "name": "stdout",
     "output_type": "stream",
     "text": [
      "Simulation time is:        1.9 seconds\n",
      "Simulation time is:       1.85 seconds\n",
      "Simulation time is:        1.8 seconds\n",
      "Simulation time is:       1.75 seconds\n",
      "Simulation time is:        1.7 seconds\n",
      "Simulation time is:       1.65 seconds\n",
      "Simulation time is:        1.6 seconds\n",
      "Simulation time is:       1.55 seconds\n",
      "Simulation time is:        1.5 seconds\n",
      "Simulation time is:       1.45 seconds\n",
      "Simulation time is:        1.4 seconds\n",
      "Simulation time is:       1.35 seconds\n",
      "Simulation time is:        1.3 seconds\n",
      "Simulation time is:       1.25 seconds\n",
      "Simulation time is:        1.2 seconds\n",
      "Simulation time is:       1.15 seconds\n",
      "Simulation time is:        1.1 seconds\n",
      "Simulation time is:       1.05 seconds\n",
      "Simulation time is:        1.0 seconds\n",
      "Simulation time is:       0.95 seconds\n",
      "Simulation time is:        0.9 seconds\n",
      "Simulation time is:       0.85 seconds\n",
      "Simulation time is:        0.8 seconds\n",
      "Simulation time is:       0.75 seconds\n",
      "Simulation time is:        0.7 seconds\n",
      "Simulation time is:       0.65 seconds\n",
      "Simulation time is:        0.6 seconds\n",
      "Simulation time is:       0.55 seconds\n",
      "Simulation time is:        0.5 seconds\n",
      "Simulation time is:       0.45 seconds\n",
      "Simulation time is:        0.4 seconds\n",
      "Simulation time is:       0.35 seconds\n",
      "Simulation time is:        0.3 seconds\n",
      "Simulation time is:       0.25 seconds\n",
      "Simulation time is:        0.2 seconds\n",
      "Simulation time is:       0.15 seconds\n",
      "Simulation time is:        0.1 seconds\n",
      "Simulation time is:       0.05 seconds\n",
      "Simulation time is:        0.0 seconds\n"
     ]
    },
    {
     "name": "stderr",
     "output_type": "stream",
     "text": [
      "/Users/yw11823/ACSE/irp/firedrake/src/ufl/ufl/utils/sorting.py:84: UserWarning: Applying str() to a metadata value of type QuadratureRule, don't know if this is safe.\n",
      "  warnings.warn(f\"Applying str() to a metadata value of type {type(value).__name__}, \"\n",
      "/Users/yw11823/ACSE/irp/firedrake/src/firedrake/firedrake/function.py:325: FutureWarning: The .split() method is deprecated, please use the .subfunctions property instead\n",
      "  warnings.warn(\"The .split() method is deprecated, please use the .subfunctions property instead\", category=FutureWarning)\n",
      "/Users/yw11823/ACSE/irp/firedrake/src/ufl/ufl/utils/sorting.py:84: UserWarning: Applying str() to a metadata value of type QuadratureRule, don't know if this is safe.\n",
      "  warnings.warn(f\"Applying str() to a metadata value of type {type(value).__name__}, \"\n"
     ]
    },
    {
     "ename": "IndexError",
     "evalue": "pop from empty list",
     "output_type": "error",
     "traceback": [
      "\u001b[0;31m---------------------------------------------------------------------------\u001b[0m",
      "\u001b[0;31mIndexError\u001b[0m                                Traceback (most recent call last)",
      "Cell \u001b[0;32mIn[19], line 24\u001b[0m\n\u001b[1;32m     20\u001b[0m \u001b[38;5;66;03m# Set up the line search\u001b[39;00m\n\u001b[1;32m     21\u001b[0m \u001b[38;5;66;03m# algo = ROL.Algorithm(\"Line Search\", params)\u001b[39;00m\n\u001b[1;32m     22\u001b[0m algo \u001b[38;5;241m=\u001b[39m ROL\u001b[38;5;241m.\u001b[39mLinMoreAlgorithm(params)\n\u001b[0;32m---> 24\u001b[0m \u001b[43malgo\u001b[49m\u001b[38;5;241;43m.\u001b[39;49m\u001b[43mrun\u001b[49m\u001b[43m(\u001b[49m\u001b[43mopt\u001b[49m\u001b[43m,\u001b[49m\u001b[43m \u001b[49m\u001b[43mobj\u001b[49m\u001b[43m,\u001b[49m\u001b[43m \u001b[49m\u001b[43mbnd\u001b[49m\u001b[43m)\u001b[49m\n\u001b[1;32m     26\u001b[0m \u001b[38;5;28;01mif\u001b[39;00m comm\u001b[38;5;241m.\u001b[39mensemble_comm\u001b[38;5;241m.\u001b[39mrank \u001b[38;5;241m==\u001b[39m \u001b[38;5;241m0\u001b[39m:\n\u001b[1;32m     27\u001b[0m     File(\u001b[38;5;124m\"\u001b[39m\u001b[38;5;124mres.pvd\u001b[39m\u001b[38;5;124m\"\u001b[39m, comm\u001b[38;5;241m=\u001b[39mcomm\u001b[38;5;241m.\u001b[39mcomm)\u001b[38;5;241m.\u001b[39mwrite(obj\u001b[38;5;241m.\u001b[39mvp)\n",
      "Cell \u001b[0;32mIn[16], line 30\u001b[0m, in \u001b[0;36mObjective.gradient\u001b[0;34m(self, g, x, tol)\u001b[0m\n\u001b[1;32m     28\u001b[0m \u001b[38;5;28;01mdef\u001b[39;00m \u001b[38;5;21mgradient\u001b[39m(\u001b[38;5;28mself\u001b[39m, g, x, tol):\n\u001b[1;32m     29\u001b[0m     dJ \u001b[38;5;241m=\u001b[39m Function(V, name\u001b[38;5;241m=\u001b[39m\u001b[38;5;124m\"\u001b[39m\u001b[38;5;124mgradient\u001b[39m\u001b[38;5;124m\"\u001b[39m)\n\u001b[0;32m---> 30\u001b[0m     dJ_local \u001b[38;5;241m=\u001b[39m \u001b[43mspyro\u001b[49m\u001b[38;5;241;43m.\u001b[39;49m\u001b[43msolvers\u001b[49m\u001b[38;5;241;43m.\u001b[39;49m\u001b[43mgradient\u001b[49m\u001b[43m(\u001b[49m\n\u001b[1;32m     31\u001b[0m \u001b[43m        \u001b[49m\u001b[43mmodel\u001b[49m\u001b[43m,\u001b[49m\n\u001b[1;32m     32\u001b[0m \u001b[43m        \u001b[49m\u001b[43mmesh\u001b[49m\u001b[43m,\u001b[49m\n\u001b[1;32m     33\u001b[0m \u001b[43m        \u001b[49m\u001b[43mcomm\u001b[49m\u001b[43m,\u001b[49m\n\u001b[1;32m     34\u001b[0m \u001b[43m        \u001b[49m\u001b[43mvp\u001b[49m\u001b[43m,\u001b[49m\n\u001b[1;32m     35\u001b[0m \u001b[43m        \u001b[49m\u001b[43mreceivers\u001b[49m\u001b[43m,\u001b[49m\n\u001b[1;32m     36\u001b[0m \u001b[43m        \u001b[49m\u001b[38;5;28;43mself\u001b[39;49m\u001b[38;5;241;43m.\u001b[39;49m\u001b[43mp_guess\u001b[49m\u001b[43m,\u001b[49m\n\u001b[1;32m     37\u001b[0m \u001b[43m        \u001b[49m\u001b[38;5;28;43mself\u001b[39;49m\u001b[38;5;241;43m.\u001b[39;49m\u001b[43mmisfit\u001b[49m\u001b[43m,\u001b[49m\n\u001b[1;32m     38\u001b[0m \u001b[43m    \u001b[49m\u001b[43m)\u001b[49m\n\u001b[1;32m     39\u001b[0m     \u001b[38;5;28;01mif\u001b[39;00m comm\u001b[38;5;241m.\u001b[39mensemble_comm\u001b[38;5;241m.\u001b[39msize \u001b[38;5;241m>\u001b[39m \u001b[38;5;241m1\u001b[39m:\n\u001b[1;32m     40\u001b[0m         comm\u001b[38;5;241m.\u001b[39mallreduce(dJ_local, dJ)\n",
      "File \u001b[0;32m~/ACSE/irp/spyro/spyro/io/io.py:166\u001b[0m, in \u001b[0;36mensemble_gradient.<locals>.wrapper\u001b[0;34m(*args, **kwargs)\u001b[0m\n\u001b[1;32m    164\u001b[0m     \u001b[38;5;28;01mreturn\u001b[39;00m grad, u_adj\n\u001b[1;32m    165\u001b[0m \u001b[38;5;28;01melse\u001b[39;00m:\n\u001b[0;32m--> 166\u001b[0m     grad \u001b[38;5;241m=\u001b[39m \u001b[43mfunc\u001b[49m\u001b[43m(\u001b[49m\u001b[38;5;241;43m*\u001b[39;49m\u001b[43margs\u001b[49m\u001b[43m,\u001b[49m\u001b[43m \u001b[49m\u001b[38;5;241;43m*\u001b[39;49m\u001b[38;5;241;43m*\u001b[39;49m\u001b[43mkwargs\u001b[49m\u001b[43m)\u001b[49m\n\u001b[1;32m    167\u001b[0m     \u001b[38;5;28;01mreturn\u001b[39;00m grad\n",
      "File \u001b[0;32m~/ACSE/irp/spyro/spyro/solvers/gradient.py:293\u001b[0m, in \u001b[0;36mgradient\u001b[0;34m(model, mesh, comm, c, receivers, guess, residual, output, save_adjoint)\u001b[0m\n\u001b[1;32m    290\u001b[0m \u001b[38;5;28;01mif\u001b[39;00m step \u001b[38;5;241m%\u001b[39m fspool \u001b[38;5;241m==\u001b[39m \u001b[38;5;241m0\u001b[39m:\n\u001b[1;32m    291\u001b[0m     \u001b[38;5;66;03m# compute the gradient increment\u001b[39;00m\n\u001b[1;32m    292\u001b[0m     uuadj\u001b[38;5;241m.\u001b[39massign(u_np1)\n\u001b[0;32m--> 293\u001b[0m     uufor\u001b[38;5;241m.\u001b[39massign(guess\u001b[38;5;241m.\u001b[39mpop())\n\u001b[1;32m    295\u001b[0m     grad_solver\u001b[38;5;241m.\u001b[39msolve()\n\u001b[1;32m    296\u001b[0m     dJ \u001b[38;5;241m+\u001b[39m\u001b[38;5;241m=\u001b[39m gradi\n",
      "\u001b[0;31mIndexError\u001b[0m: pop from empty list"
     ]
    }
   ],
   "source": [
    "params = ROL.ParameterList(paramsDict, \"Parameters\")\n",
    "\n",
    "inner_product = L2Inner()\n",
    "\n",
    "obj = Objective(inner_product)\n",
    "\n",
    "u = Function(V, name=\"velocity\").assign(vp)\n",
    "\n",
    "\n",
    "\n",
    "\n",
    "opt = FeVector(u.vector(), inner_product)\n",
    "# Add control bounds to the problem (uses more RAM)\n",
    "xlo = Function(V)\n",
    "xlo.interpolate(Constant(1.0))\n",
    "x_lo = FeVector(xlo.vector(), inner_product)\n",
    "\n",
    "xup = Function(V)\n",
    "xup.interpolate(Constant(5.0))\n",
    "x_up = FeVector(xup.vector(), inner_product)\n",
    "\n",
    "bnd = ROL.Bounds(x_lo, x_up, 1.0)\n",
    "\n",
    "# Set up the line search\n",
    "# algo = ROL.Algorithm(\"Line Search\", params)\n",
    "algo = ROL.LinMoreAlgorithm(params)\n",
    "\n",
    "algo.run(opt, obj, bnd)\n",
    "\n",
    "if comm.ensemble_comm.rank == 0:\n",
    "    File(\"res.pvd\", comm=comm.comm).write(obj.vp)"
   ]
  },
  {
   "cell_type": "code",
   "execution_count": 19,
   "metadata": {},
   "outputs": [],
   "source": [
    "inner_product = L2Inner()\n",
    "\n",
    "obj = Objective(inner_product)\n",
    "\n",
    "u = Function(V, name=\"velocity\").assign(vp)\n",
    "File(\"u_velocity_model.pvd\").write(u)"
   ]
  },
  {
   "cell_type": "code",
   "execution_count": 20,
   "metadata": {},
   "outputs": [],
   "source": [
    "# opt = FeVector(u.vector(), inner_product)\n",
    "\n",
    "# # 创建上界和下界的 Function 对象\n",
    "# lower_bound = Function(V, name=\"Lower Bound\").interpolate(Constant(1500))\n",
    "# upper_bound = Function(V, name=\"Upper Bound\").interpolate(Constant(4500))\n",
    "\n",
    "# print(\"Lower bound size:\", lower_bound.vector().size())\n",
    "# print(\"Upper bound size:\", upper_bound.vector().size())\n",
    "# print(\"Optimization variable size:\", opt.vec.size())\n"
   ]
  },
  {
   "cell_type": "code",
   "execution_count": 21,
   "metadata": {},
   "outputs": [],
   "source": [
    "# # Test run without bounds to see if error persists\n",
    "# try:\n",
    "#     algo.run(opt, obj)  # Run without bounds\n",
    "#     print(\"Run successful without bounds\")\n",
    "# except Exception as e:\n",
    "#     print(\"Error running without bounds:\", e)\n",
    "\n",
    "# # If no errors, reintroduce bounds and check initialization:\n",
    "# if 'bounds' in locals():\n",
    "#     try:\n",
    "#         algo.run(opt, obj, bounds)  # Run with bounds\n",
    "#         print(\"Run successful with bounds\")\n",
    "#     except Exception as e:\n",
    "#         print(\"Error running with bounds:\", e)\n"
   ]
  },
  {
   "cell_type": "code",
   "execution_count": 1,
   "metadata": {},
   "outputs": [
    {
     "ename": "NameError",
     "evalue": "name 'FeVector' is not defined",
     "output_type": "error",
     "traceback": [
      "\u001b[0;31m---------------------------------------------------------------------------\u001b[0m",
      "\u001b[0;31mNameError\u001b[0m                                 Traceback (most recent call last)",
      "Cell \u001b[0;32mIn[1], line 1\u001b[0m\n\u001b[0;32m----> 1\u001b[0m opt \u001b[38;5;241m=\u001b[39m \u001b[43mFeVector\u001b[49m(u\u001b[38;5;241m.\u001b[39mvector(), inner_product)\n\u001b[1;32m      3\u001b[0m \u001b[38;5;66;03m# algo = ROL.Algorithm(\"Line Search\", params)\u001b[39;00m\n\u001b[1;32m      5\u001b[0m algo \u001b[38;5;241m=\u001b[39m ROL\u001b[38;5;241m.\u001b[39mLinMoreAlgorithm(params)\n",
      "\u001b[0;31mNameError\u001b[0m: name 'FeVector' is not defined"
     ]
    }
   ],
   "source": [
    "opt = FeVector(u.vector(), inner_product)\n",
    "\n",
    "# algo = ROL.Algorithm(\"Line Search\", params)\n",
    "\n",
    "algo = ROL.LinMoreAlgorithm(params)\n",
    "\n",
    "algo.run(opt, obj)\n",
    "\n",
    "# # 创建上界和下界的 Function 对象\n",
    "# lower_bound = Function(V, name=\"Lower Bound\").interpolate(Constant(1500))\n",
    "# upper_bound = Function(V, name=\"Upper Bound\").interpolate(Constant(4500))\n",
    "\n",
    "# # Assuming inner_product is defined somewhere in your script as an instance of L2Inner or similar\n",
    "# # 创建 ROL.Bounds 对象，确保传入 inner_product\n",
    "# bounds = ROL.Bounds(FeVector(lower_bound.vector(), inner_product), FeVector(upper_bound.vector(), inner_product))\n",
    "\n",
    "# # 在优化算法中使用界限\n",
    "# algo.run(opt, obj, bounds)\n",
    "\n",
    "# 在优化算法中使用界限、\n",
    "algo.run(opt, obj, bounds)\n",
    "\n",
    "\n",
    "if comm.ensemble_comm.rank == 0:\n",
    "    File(\"res.pvd\", comm=comm.comm).write(vp)"
   ]
  },
  {
   "cell_type": "code",
   "execution_count": null,
   "metadata": {},
   "outputs": [],
   "source": []
  }
 ],
 "metadata": {
  "kernelspec": {
   "display_name": "firedrake",
   "language": "python",
   "name": "python3"
  },
  "language_info": {
   "codemirror_mode": {
    "name": "ipython",
    "version": 3
   },
   "file_extension": ".py",
   "mimetype": "text/x-python",
   "name": "python",
   "nbconvert_exporter": "python",
   "pygments_lexer": "ipython3",
   "version": "3.11.9"
  }
 },
 "nbformat": 4,
 "nbformat_minor": 2
}
