{
 "cells": [
  {
   "cell_type": "code",
   "execution_count": 1,
   "metadata": {},
   "outputs": [],
   "source": [
    "import os\n",
    "from scipy.ndimage import gaussian_filter\n",
    "import segyio\n",
    "import numpy as np\n",
    "import matplotlib.pyplot as plt\n",
    "\n",
    "\n",
    "def smooth_velocity_field_file(input_filename, output_filename, sigma, show=False):\n",
    "    \"\"\"Smooths a velocity field using a Gaussian filter.\n",
    "\n",
    "    Parameters\n",
    "    ----------\n",
    "    input_filename : string\n",
    "        The name of the input file.\n",
    "    output_filename : string\n",
    "        The name of the output file.\n",
    "    sigma : float\n",
    "        The standard deviation of the Gaussian filter.\n",
    "    show : boolean, optional\n",
    "        Should the plot image appear on screen\n",
    "\n",
    "    Returns\n",
    "    -------\n",
    "    None\n",
    "\n",
    "    \"\"\"\n",
    "    f, filetype = os.path.splitext(input_filename)\n",
    "\n",
    "    if filetype == \".segy\":\n",
    "        with segyio.open(input_filename, ignore_geometry=True) as f:\n",
    "            nz, nx = len(f.samples), len(f.trace)\n",
    "            vp = np.zeros(shape=(nz, nx))\n",
    "            for index, trace in enumerate(f.trace):\n",
    "                vp[:, index] = trace\n",
    "    else:\n",
    "        raise ValueError(\"Not yet implemented!\")\n",
    "\n",
    "    vp_smooth = gaussian_filter(vp, sigma)\n",
    "    ni, nj = np.shape(vp)\n",
    "\n",
    "    for i in range(ni):\n",
    "        for j in range(nj):\n",
    "            if vp[i, j] < 1.51 and i < 400:\n",
    "                vp_smooth[i, j] = vp[i, j]\n",
    "\n",
    "    spec = segyio.spec()\n",
    "    spec.sorting = 2  # not sure what this means\n",
    "    spec.format = 1  # not sure what this means\n",
    "    spec.samples = range(vp_smooth.shape[0])\n",
    "    spec.ilines = range(vp_smooth.shape[1])\n",
    "    spec.xlines = range(vp_smooth.shape[0])\n",
    "\n",
    "    assert np.sum(np.isnan(vp_smooth[:])) == 0\n",
    "\n",
    "    with segyio.create(output_filename, spec) as f:\n",
    "        for tr, il in enumerate(spec.ilines):\n",
    "            f.trace[tr] = vp_smooth[:, tr]\n",
    "\n",
    "    if show is True:\n",
    "        with segyio.open(output_filename, ignore_geometry=True) as f:\n",
    "            nz, nx = len(f.samples), len(f.trace)\n",
    "            show_vp = np.zeros(shape=(nz, nx))\n",
    "            for index, trace in enumerate(f.trace):\n",
    "                show_vp[:, index] = trace\n",
    "\n",
    "        fig, ax = plt.subplots()\n",
    "        plt.pcolormesh(show_vp, shading=\"auto\")\n",
    "        plt.title(\"Guess model\")\n",
    "        plt.colorbar(label=\"P-wave velocity (km/s)\")\n",
    "        plt.xlabel(\"x-direction (m)\")\n",
    "        plt.ylabel(\"z-direction (m)\")\n",
    "        ax.axis(\"equal\")\n",
    "        plt.show()\n",
    "\n",
    "    return None"
   ]
  },
  {
   "cell_type": "code",
   "execution_count": 4,
   "metadata": {},
   "outputs": [
    {
     "name": "stdout",
     "output_type": "stream",
     "text": [
      "velocity_model\n"
     ]
    }
   ],
   "source": [
    "import h5py\n",
    "\n",
    "def list_hdf5_datasets(hdf5_filename):\n",
    "    with h5py.File(hdf5_filename, 'r') as hdf5_file:\n",
    "        def print_attrs(name, obj):\n",
    "            print(name)\n",
    "        hdf5_file.visititems(print_attrs)\n",
    "\n",
    "hdf5_filename = '/Users/yw11823/ACSE/irp/spyro/FWI_2D_DATA/velocity_models/marmousi_exact.hdf5'\n",
    "list_hdf5_datasets(hdf5_filename)\n"
   ]
  },
  {
   "cell_type": "code",
   "execution_count": 9,
   "metadata": {},
   "outputs": [
    {
     "name": "stderr",
     "output_type": "stream",
     "text": [
      "/Users/yw11823/ACSE/irp/firedrake/lib/python3.11/site-packages/segyio/utils.py:18: RuntimeWarning: Implicit conversion to contiguous array\n",
      "  warnings.warn(msg, RuntimeWarning)\n"
     ]
    },
    {
     "name": "stdout",
     "output_type": "stream",
     "text": [
      "Conversion complete: /Users/yw11823/ACSE/irp/spyro/FWI_2D_DATA/velocity_models/marmousi_exact.hdf5 -> /Users/yw11823/ACSE/irp/spyro/FWI_2D_DATA/marmousi_exact.segy\n"
     ]
    }
   ],
   "source": [
    "import h5py\n",
    "import segyio\n",
    "import numpy as np\n",
    "\n",
    "def hdf5_to_segy(hdf5_filename, segy_filename):\n",
    "    # Read the .hdf5 file\n",
    "    with h5py.File(hdf5_filename, 'r') as hdf5_file:\n",
    "        # Ensure the correct dataset name is used\n",
    "        velocity_data = hdf5_file['velocity_model'][:]  # Make sure the dataset name is correct\n",
    "    \n",
    "    # Get dimensions of the data\n",
    "    nz, nx = velocity_data.shape\n",
    "\n",
    "    # Create .segy file specification\n",
    "    spec = segyio.spec()\n",
    "    spec.sorting = segyio.TraceSortingFormat.INLINE_SORTING\n",
    "    spec.format = 5  # IEEE floating-point format\n",
    "    spec.samples = list(range(nz))\n",
    "    spec.ilines = list(range(nx))\n",
    "    spec.xlines = [0]  # Single line since it's 2D data\n",
    "\n",
    "    # Write to the .segy file\n",
    "    with segyio.create(segy_filename, spec) as segy_file:\n",
    "        segy_file.text[0] = segyio.tools.wrap('', 3200)  # Optional: set text header\n",
    "        segy_file.bin[segyio.BinField.Traces] = nx\n",
    "        for i in range(nx):\n",
    "            segy_file.trace[i] = velocity_data[:, i]\n",
    "\n",
    "    print(f\"Conversion complete: {hdf5_filename} -> {segy_filename}\")\n",
    "\n",
    "# Example usage\n",
    "hdf5_filename = '/Users/yw11823/ACSE/irp/spyro/FWI_2D_DATA/velocity_models/marmousi_exact.hdf5'\n",
    "segy_filename = '/Users/yw11823/ACSE/irp/spyro/FWI_2D_DATA/marmousi_exact.segy'\n",
    "hdf5_to_segy(hdf5_filename, segy_filename)\n",
    "\n"
   ]
  },
  {
   "cell_type": "code",
   "execution_count": 2,
   "metadata": {},
   "outputs": [
    {
     "ename": "FileNotFoundError",
     "evalue": "[Errno 2] No such file or directory",
     "output_type": "error",
     "traceback": [
      "\u001b[0;31m---------------------------------------------------------------------------\u001b[0m",
      "\u001b[0;31mFileNotFoundError\u001b[0m                         Traceback (most recent call last)",
      "Cell \u001b[0;32mIn[2], line 5\u001b[0m\n\u001b[1;32m      2\u001b[0m output_filename \u001b[38;5;241m=\u001b[39m \u001b[38;5;124m\"\u001b[39m\u001b[38;5;124msmoothed_vp_guess4.segy\u001b[39m\u001b[38;5;124m\"\u001b[39m\n\u001b[1;32m      3\u001b[0m sigma \u001b[38;5;241m=\u001b[39m \u001b[38;5;241m2.0\u001b[39m\n\u001b[0;32m----> 5\u001b[0m \u001b[43msmooth_velocity_field_file\u001b[49m\u001b[43m(\u001b[49m\u001b[43minput_filename\u001b[49m\u001b[43m,\u001b[49m\u001b[43m \u001b[49m\u001b[43moutput_filename\u001b[49m\u001b[43m,\u001b[49m\u001b[43m \u001b[49m\u001b[43msigma\u001b[49m\u001b[43m,\u001b[49m\u001b[43m \u001b[49m\u001b[43mshow\u001b[49m\u001b[38;5;241;43m=\u001b[39;49m\u001b[38;5;28;43;01mTrue\u001b[39;49;00m\u001b[43m)\u001b[49m\n",
      "Cell \u001b[0;32mIn[1], line 30\u001b[0m, in \u001b[0;36msmooth_velocity_field_file\u001b[0;34m(input_filename, output_filename, sigma, show)\u001b[0m\n\u001b[1;32m     27\u001b[0m f, filetype \u001b[38;5;241m=\u001b[39m os\u001b[38;5;241m.\u001b[39mpath\u001b[38;5;241m.\u001b[39msplitext(input_filename)\n\u001b[1;32m     29\u001b[0m \u001b[38;5;28;01mif\u001b[39;00m filetype \u001b[38;5;241m==\u001b[39m \u001b[38;5;124m\"\u001b[39m\u001b[38;5;124m.segy\u001b[39m\u001b[38;5;124m\"\u001b[39m:\n\u001b[0;32m---> 30\u001b[0m     \u001b[38;5;28;01mwith\u001b[39;00m \u001b[43msegyio\u001b[49m\u001b[38;5;241;43m.\u001b[39;49m\u001b[43mopen\u001b[49m\u001b[43m(\u001b[49m\u001b[43minput_filename\u001b[49m\u001b[43m,\u001b[49m\u001b[43m \u001b[49m\u001b[43mignore_geometry\u001b[49m\u001b[38;5;241;43m=\u001b[39;49m\u001b[38;5;28;43;01mTrue\u001b[39;49;00m\u001b[43m)\u001b[49m \u001b[38;5;28;01mas\u001b[39;00m f:\n\u001b[1;32m     31\u001b[0m         nz, nx \u001b[38;5;241m=\u001b[39m \u001b[38;5;28mlen\u001b[39m(f\u001b[38;5;241m.\u001b[39msamples), \u001b[38;5;28mlen\u001b[39m(f\u001b[38;5;241m.\u001b[39mtrace)\n\u001b[1;32m     32\u001b[0m         vp \u001b[38;5;241m=\u001b[39m np\u001b[38;5;241m.\u001b[39mzeros(shape\u001b[38;5;241m=\u001b[39m(nz, nx))\n",
      "File \u001b[0;32m~/ACSE/irp/firedrake/lib/python3.11/site-packages/segyio/open.py:162\u001b[0m, in \u001b[0;36mopen\u001b[0;34m(filename, mode, iline, xline, strict, ignore_geometry, endian)\u001b[0m\n\u001b[1;32m    159\u001b[0m     \u001b[38;5;28;01mraise\u001b[39;00m \u001b[38;5;167;01mValueError\u001b[39;00m(problem\u001b[38;5;241m.\u001b[39mformat(endian) \u001b[38;5;241m+\u001b[39m opts)\n\u001b[1;32m    161\u001b[0m \u001b[38;5;28;01mfrom\u001b[39;00m \u001b[38;5;21;01m.\u001b[39;00m \u001b[38;5;28;01mimport\u001b[39;00m _segyio\n\u001b[0;32m--> 162\u001b[0m fd \u001b[38;5;241m=\u001b[39m \u001b[43m_segyio\u001b[49m\u001b[38;5;241;43m.\u001b[39;49m\u001b[43msegyiofd\u001b[49m\u001b[43m(\u001b[49m\u001b[38;5;28;43mstr\u001b[39;49m\u001b[43m(\u001b[49m\u001b[43mfilename\u001b[49m\u001b[43m)\u001b[49m\u001b[43m,\u001b[49m\u001b[43m \u001b[49m\u001b[43mmode\u001b[49m\u001b[43m,\u001b[49m\u001b[43m \u001b[49m\u001b[43mendians\u001b[49m\u001b[43m[\u001b[49m\u001b[43mendian\u001b[49m\u001b[43m]\u001b[49m\u001b[43m)\u001b[49m\n\u001b[1;32m    163\u001b[0m fd\u001b[38;5;241m.\u001b[39msegyopen()\n\u001b[1;32m    164\u001b[0m metrics \u001b[38;5;241m=\u001b[39m fd\u001b[38;5;241m.\u001b[39mmetrics()\n",
      "\u001b[0;31mFileNotFoundError\u001b[0m: [Errno 2] No such file or directory"
     ]
    }
   ],
   "source": [
    "output_filename = \"vp_guess4.segy\"\n",
    "sigma = 1.0\n",
    "\n",
    "smooth_velocity_field_file(segy_filename, output_filename, sigma, show=True)\n"
   ]
  }
 ],
 "metadata": {
  "kernelspec": {
   "display_name": "firedrake",
   "language": "python",
   "name": "python3"
  },
  "language_info": {
   "codemirror_mode": {
    "name": "ipython",
    "version": 3
   },
   "file_extension": ".py",
   "mimetype": "text/x-python",
   "name": "python",
   "nbconvert_exporter": "python",
   "pygments_lexer": "ipython3",
   "version": "3.11.9"
  }
 },
 "nbformat": 4,
 "nbformat_minor": 2
}
